{
  "nbformat": 4,
  "nbformat_minor": 0,
  "metadata": {
    "colab": {
      "name": "AutoChek_Scrape.ipynb",
      "provenance": [],
      "authorship_tag": "ABX9TyNU3ngA31S4SSdSCnbC/su2",
      "include_colab_link": true
    },
    "kernelspec": {
      "name": "python3",
      "display_name": "Python 3"
    }
  },
  "cells": [
    {
      "cell_type": "markdown",
      "metadata": {
        "id": "view-in-github",
        "colab_type": "text"
      },
      "source": [
        "<a href=\"https://colab.research.google.com/github/Soot3/AutoChek-Analysis/blob/main/AutoChek_Scrape.ipynb\" target=\"_parent\"><img src=\"https://colab.research.google.com/assets/colab-badge.svg\" alt=\"Open In Colab\"/></a>"
      ]
    },
    {
      "cell_type": "code",
      "metadata": {
        "id": "CzCSWJofWVtH"
      },
      "source": [
        "import requests\r\n",
        "from bs4 import BeautifulSoup as bs4\r\n",
        "import pandas as pd"
      ],
      "execution_count": 1,
      "outputs": []
    },
    {
      "cell_type": "code",
      "metadata": {
        "id": "0dwH7xDdWjzQ"
      },
      "source": [
        "# getting the links to the cars\r\n",
        "\r\n",
        "urls = []\r\n",
        "\r\n",
        "for i in range(1,16):\r\n",
        "  website = \"https://autochek.africa/ng/cars-for-sale?country=ng&page_number={}&page_size=100\".format(i)\r\n",
        "  page = requests.get(website)\r\n",
        "  soup = bs4(page.text, 'html.parser')\r\n",
        "  for item in soup.findAll('a', href=True, class_=\"jsx-3456531073 car-item hover:tw-shadow-md\"):\r\n",
        "    link = item['href']\r\n",
        "    link = link.replace('/undefined/', 'https://autochek.africa/ng/')\r\n",
        "    urls.append(link)"
      ],
      "execution_count": 2,
      "outputs": []
    },
    {
      "cell_type": "code",
      "metadata": {
        "colab": {
          "base_uri": "https://localhost:8080/",
          "height": 51
        },
        "id": "p5Dd6aVbfMG0",
        "outputId": "3b365854-64be-4601-b024-cc488ecb860e"
      },
      "source": [
        "urls.remove(\"https://autochek.africa/ng/car/nissan-trade-open-roof-truck-ref-7wvinthJf\")\r\n",
        "print(len(urls))\r\n",
        "urls[-1]"
      ],
      "execution_count": 3,
      "outputs": [
        {
          "output_type": "stream",
          "text": [
            "1466\n"
          ],
          "name": "stdout"
        },
        {
          "output_type": "execute_result",
          "data": {
            "application/vnd.google.colaboratory.intrinsic+json": {
              "type": "string"
            },
            "text/plain": [
              "'https://autochek.africa/ng/car/toyota-sienna-ref-XOV8buAnU'"
            ]
          },
          "metadata": {
            "tags": []
          },
          "execution_count": 3
        }
      ]
    },
    {
      "cell_type": "code",
      "metadata": {
        "id": "3cgeM58yhl5g"
      },
      "source": [
        "# Getting car information\r\n",
        "title = []\r\n",
        "#manufacturer = []\r\n",
        "#model = []\r\n",
        "#year = []\r\n",
        "prices = []\r\n",
        "odometer = []\r\n",
        "location = []\r\n",
        "used_where = []\r\n",
        "engine = []\r\n",
        "transmission = []\r\n",
        "paint = []\r\n",
        "fuel = []\r\n",
        "for i in urls:\r\n",
        "  page = requests.get(i)\r\n",
        "  soup = bs4(page.text, \"html.parser\")\r\n",
        "  # The headline is formatted like this \"Toyota Camry 2012\"\r\n",
        "  headline = soup.get_text().split(',')[0]\r\n",
        "  title.append(headline)\r\n",
        "  #manufacturer.append(headline.split(' ')[0])\r\n",
        "  #model.append(headline.split(' ')[1])\r\n",
        "  #year.append(headline.split(' ')[2])\r\n",
        "  for j in soup.findAll('div', class_='price'):\r\n",
        "    price = j.getText()\r\n",
        "    prices.append(price)\r\n",
        "  eng = soup.findAll('span', class_='value text-capitalize')[0].string.extract()\r\n",
        "  engine.append(eng)\r\n",
        "  trans = soup.findAll('span', class_='value text-capitalize')[1].string.extract()\r\n",
        "  transmission.append(trans)\r\n",
        "  fu = soup.findAll('span', class_='value text-capitalize')[2].string.extract()\r\n",
        "  fuel.append(fu)\r\n",
        "  pa = soup.findAll('span', class_='value text-capitalize')[4].string.extract()\r\n",
        "  paint.append(pa)\r\n",
        "  odd = soup.find('div', class_='details-item-container tw-mt-4').findAll('span', class_='text')[0].getText()\r\n",
        "  odometer.append(odd)\r\n",
        "  loc = soup.find('div', class_='details-item-container tw-mt-4').findAll('span', class_='text')[1].getText()\r\n",
        "  location.append(loc)\r\n",
        "  isexported = soup.find('div', class_='details-item-container tw-mt-4').findAll('span', class_='text')[2].getText()\r\n",
        "  used_where.append(isexported)\r\n",
        "\r\n"
      ],
      "execution_count": 4,
      "outputs": []
    },
    {
      "cell_type": "code",
      "metadata": {
        "colab": {
          "base_uri": "https://localhost:8080/"
        },
        "id": "6A-WEugVosVL",
        "outputId": "96b0e3d3-2209-4728-c06d-5297829bce42"
      },
      "source": [
        "for i in [title, prices, odometer, location, used_where, engine, transmission, paint, fuel]:\r\n",
        "  print(len(i))\r\n"
      ],
      "execution_count": 5,
      "outputs": [
        {
          "output_type": "stream",
          "text": [
            "1466\n",
            "1466\n",
            "1466\n",
            "1466\n",
            "1466\n",
            "1466\n",
            "1466\n",
            "1466\n",
            "1466\n"
          ],
          "name": "stdout"
        }
      ]
    },
    {
      "cell_type": "code",
      "metadata": {
        "id": "IkbcjWpIkKQC"
      },
      "source": [
        "final_dict = {\"title\":title, \"odometer\": odometer, \"location\": location, \"isimported\": used_where, \"engine\": engine, \"transmission\": transmission, \"fuel\": fuel, \"paint\": paint, \"price\": prices}"
      ],
      "execution_count": 6,
      "outputs": []
    },
    {
      "cell_type": "code",
      "metadata": {
        "id": "nIE2S2K4_mEX"
      },
      "source": [
        "df = pd.DataFrame(final_dict)"
      ],
      "execution_count": 7,
      "outputs": []
    },
    {
      "cell_type": "code",
      "metadata": {
        "colab": {
          "base_uri": "https://localhost:8080/",
          "height": 334
        },
        "id": "HkoWAey_7k0t",
        "outputId": "56d1c81c-d2e8-458c-cf57-f6ec658800ab"
      },
      "source": [
        "df.sample(10)"
      ],
      "execution_count": 8,
      "outputs": [
        {
          "output_type": "execute_result",
          "data": {
            "text/html": [
              "<div>\n",
              "<style scoped>\n",
              "    .dataframe tbody tr th:only-of-type {\n",
              "        vertical-align: middle;\n",
              "    }\n",
              "\n",
              "    .dataframe tbody tr th {\n",
              "        vertical-align: top;\n",
              "    }\n",
              "\n",
              "    .dataframe thead th {\n",
              "        text-align: right;\n",
              "    }\n",
              "</style>\n",
              "<table border=\"1\" class=\"dataframe\">\n",
              "  <thead>\n",
              "    <tr style=\"text-align: right;\">\n",
              "      <th></th>\n",
              "      <th>title</th>\n",
              "      <th>odometer</th>\n",
              "      <th>location</th>\n",
              "      <th>isimported</th>\n",
              "      <th>engine</th>\n",
              "      <th>transmission</th>\n",
              "      <th>fuel</th>\n",
              "      <th>paint</th>\n",
              "      <th>price</th>\n",
              "    </tr>\n",
              "  </thead>\n",
              "  <tbody>\n",
              "    <tr>\n",
              "      <th>1105</th>\n",
              "      <td>Honda CR-V 2018 Price</td>\n",
              "      <td>27,079 km</td>\n",
              "      <td>Lagos</td>\n",
              "      <td>Foreign Used</td>\n",
              "      <td>4-cylinder(I4)</td>\n",
              "      <td>automatic</td>\n",
              "      <td>petrol</td>\n",
              "      <td>Gray</td>\n",
              "      <td>15,215,000</td>\n",
              "    </tr>\n",
              "    <tr>\n",
              "      <th>1050</th>\n",
              "      <td>Lexus RX 400 2006 Price</td>\n",
              "      <td>197,563 km</td>\n",
              "      <td>Lagos</td>\n",
              "      <td>Foreign Used</td>\n",
              "      <td>6-cylinder(I6)</td>\n",
              "      <td>automatic</td>\n",
              "      <td>petrol</td>\n",
              "      <td>Brown</td>\n",
              "      <td>3,975,000</td>\n",
              "    </tr>\n",
              "    <tr>\n",
              "      <th>74</th>\n",
              "      <td>Toyota Coaster 2014 Price</td>\n",
              "      <td>0 km</td>\n",
              "      <td>Lagos</td>\n",
              "      <td>Locally used</td>\n",
              "      <td>4-cylinder(I4)</td>\n",
              "      <td>manual</td>\n",
              "      <td>diesel</td>\n",
              "      <td>yellow</td>\n",
              "      <td>16,690,000</td>\n",
              "    </tr>\n",
              "    <tr>\n",
              "      <th>117</th>\n",
              "      <td>Honda Crosstour 2010 Price</td>\n",
              "      <td>156,135 km</td>\n",
              "      <td>Adamawa</td>\n",
              "      <td>Locally used</td>\n",
              "      <td>6-cylinder(V6)</td>\n",
              "      <td>automatic</td>\n",
              "      <td>petrol</td>\n",
              "      <td>Black</td>\n",
              "      <td>2,715,000</td>\n",
              "    </tr>\n",
              "    <tr>\n",
              "      <th>1060</th>\n",
              "      <td>Honda Accord 1996 Price</td>\n",
              "      <td>247,731 km</td>\n",
              "      <td>Lagos</td>\n",
              "      <td>Locally used</td>\n",
              "      <td>4-cylinder(I4)</td>\n",
              "      <td>automatic</td>\n",
              "      <td>petrol</td>\n",
              "      <td>Black/Red</td>\n",
              "      <td>455,000</td>\n",
              "    </tr>\n",
              "    <tr>\n",
              "      <th>1405</th>\n",
              "      <td>Lexus RX 350 2012 Price</td>\n",
              "      <td>56,558 km</td>\n",
              "      <td>Lagos</td>\n",
              "      <td>Foreign Used</td>\n",
              "      <td>6-cylinder(I6)</td>\n",
              "      <td>automatic</td>\n",
              "      <td>petrol</td>\n",
              "      <td>Grey</td>\n",
              "      <td>9,015,000</td>\n",
              "    </tr>\n",
              "    <tr>\n",
              "      <th>998</th>\n",
              "      <td>Toyota Sienna 2004 Price</td>\n",
              "      <td>198,763 km</td>\n",
              "      <td>Lagos</td>\n",
              "      <td>Foreign Used</td>\n",
              "      <td>6-cylinder(V6)</td>\n",
              "      <td>automatic</td>\n",
              "      <td>petrol</td>\n",
              "      <td>Silver</td>\n",
              "      <td>2,760,000</td>\n",
              "    </tr>\n",
              "    <tr>\n",
              "      <th>1260</th>\n",
              "      <td>Land Rover Range Rover Sport 2014 Price</td>\n",
              "      <td>49,293 km</td>\n",
              "      <td>Lagos</td>\n",
              "      <td>Foreign Used</td>\n",
              "      <td>4-cylinder(I4)</td>\n",
              "      <td>automatic</td>\n",
              "      <td>petrol</td>\n",
              "      <td>White</td>\n",
              "      <td>23,515,000</td>\n",
              "    </tr>\n",
              "    <tr>\n",
              "      <th>568</th>\n",
              "      <td>Mercedes-Benz E 350 2014 Price</td>\n",
              "      <td>49,422 km</td>\n",
              "      <td>Lagos</td>\n",
              "      <td>Foreign Used</td>\n",
              "      <td>6-cylinder(I6)</td>\n",
              "      <td>automatic</td>\n",
              "      <td>petrol</td>\n",
              "      <td>Black</td>\n",
              "      <td>11,015,000</td>\n",
              "    </tr>\n",
              "    <tr>\n",
              "      <th>436</th>\n",
              "      <td>Honda Civic 2016 Price</td>\n",
              "      <td>60,242 km</td>\n",
              "      <td>Lagos</td>\n",
              "      <td>Foreign Used</td>\n",
              "      <td>4-cylinder(I4)</td>\n",
              "      <td>automatic</td>\n",
              "      <td>petrol</td>\n",
              "      <td>Black</td>\n",
              "      <td>8,815,000</td>\n",
              "    </tr>\n",
              "  </tbody>\n",
              "</table>\n",
              "</div>"
            ],
            "text/plain": [
              "                                        title  ...       price\n",
              "1105                    Honda CR-V 2018 Price  ...  15,215,000\n",
              "1050                  Lexus RX 400 2006 Price  ...   3,975,000\n",
              "74                  Toyota Coaster 2014 Price  ...  16,690,000\n",
              "117                Honda Crosstour 2010 Price  ...   2,715,000\n",
              "1060                  Honda Accord 1996 Price  ...     455,000\n",
              "1405                  Lexus RX 350 2012 Price  ...   9,015,000\n",
              "998                  Toyota Sienna 2004 Price  ...   2,760,000\n",
              "1260  Land Rover Range Rover Sport 2014 Price  ...  23,515,000\n",
              "568            Mercedes-Benz E 350 2014 Price  ...  11,015,000\n",
              "436                    Honda Civic 2016 Price  ...   8,815,000\n",
              "\n",
              "[10 rows x 9 columns]"
            ]
          },
          "metadata": {
            "tags": []
          },
          "execution_count": 8
        }
      ]
    },
    {
      "cell_type": "code",
      "metadata": {
        "colab": {
          "base_uri": "https://localhost:8080/"
        },
        "id": "zOJDIQXm7mAK",
        "outputId": "e0f85152-a1bf-4143-c97d-40e472beec75"
      },
      "source": [
        "df.info()"
      ],
      "execution_count": 9,
      "outputs": [
        {
          "output_type": "stream",
          "text": [
            "<class 'pandas.core.frame.DataFrame'>\n",
            "RangeIndex: 1466 entries, 0 to 1465\n",
            "Data columns (total 9 columns):\n",
            " #   Column        Non-Null Count  Dtype \n",
            "---  ------        --------------  ----- \n",
            " 0   title         1466 non-null   object\n",
            " 1   odometer      1466 non-null   object\n",
            " 2   location      1466 non-null   object\n",
            " 3   isimported    1466 non-null   object\n",
            " 4   engine        1466 non-null   object\n",
            " 5   transmission  1466 non-null   object\n",
            " 6   fuel          1466 non-null   object\n",
            " 7   paint         1466 non-null   object\n",
            " 8   price         1466 non-null   object\n",
            "dtypes: object(9)\n",
            "memory usage: 103.2+ KB\n"
          ],
          "name": "stdout"
        }
      ]
    },
    {
      "cell_type": "code",
      "metadata": {
        "colab": {
          "base_uri": "https://localhost:8080/",
          "height": 162
        },
        "id": "ci2bGcXE7tuB",
        "outputId": "4a6de691-5618-4a00-a717-24fea3c9f18e"
      },
      "source": [
        "df.describe( include=\"all\")"
      ],
      "execution_count": 10,
      "outputs": [
        {
          "output_type": "execute_result",
          "data": {
            "text/html": [
              "<div>\n",
              "<style scoped>\n",
              "    .dataframe tbody tr th:only-of-type {\n",
              "        vertical-align: middle;\n",
              "    }\n",
              "\n",
              "    .dataframe tbody tr th {\n",
              "        vertical-align: top;\n",
              "    }\n",
              "\n",
              "    .dataframe thead th {\n",
              "        text-align: right;\n",
              "    }\n",
              "</style>\n",
              "<table border=\"1\" class=\"dataframe\">\n",
              "  <thead>\n",
              "    <tr style=\"text-align: right;\">\n",
              "      <th></th>\n",
              "      <th>title</th>\n",
              "      <th>odometer</th>\n",
              "      <th>location</th>\n",
              "      <th>isimported</th>\n",
              "      <th>engine</th>\n",
              "      <th>transmission</th>\n",
              "      <th>fuel</th>\n",
              "      <th>paint</th>\n",
              "      <th>price</th>\n",
              "    </tr>\n",
              "  </thead>\n",
              "  <tbody>\n",
              "    <tr>\n",
              "      <th>count</th>\n",
              "      <td>1466</td>\n",
              "      <td>1466</td>\n",
              "      <td>1466</td>\n",
              "      <td>1466</td>\n",
              "      <td>1466</td>\n",
              "      <td>1466</td>\n",
              "      <td>1466</td>\n",
              "      <td>1466</td>\n",
              "      <td>1466</td>\n",
              "    </tr>\n",
              "    <tr>\n",
              "      <th>unique</th>\n",
              "      <td>682</td>\n",
              "      <td>1403</td>\n",
              "      <td>15</td>\n",
              "      <td>3</td>\n",
              "      <td>9</td>\n",
              "      <td>2</td>\n",
              "      <td>2</td>\n",
              "      <td>90</td>\n",
              "      <td>478</td>\n",
              "    </tr>\n",
              "    <tr>\n",
              "      <th>top</th>\n",
              "      <td>Toyota Camry 2011 Price</td>\n",
              "      <td>0 km</td>\n",
              "      <td>Lagos</td>\n",
              "      <td>Foreign Used</td>\n",
              "      <td>4-cylinder(I4)</td>\n",
              "      <td>automatic</td>\n",
              "      <td>petrol</td>\n",
              "      <td>Black</td>\n",
              "      <td>3,315,000</td>\n",
              "    </tr>\n",
              "    <tr>\n",
              "      <th>freq</th>\n",
              "      <td>25</td>\n",
              "      <td>45</td>\n",
              "      <td>1145</td>\n",
              "      <td>1065</td>\n",
              "      <td>900</td>\n",
              "      <td>1379</td>\n",
              "      <td>1386</td>\n",
              "      <td>410</td>\n",
              "      <td>24</td>\n",
              "    </tr>\n",
              "  </tbody>\n",
              "</table>\n",
              "</div>"
            ],
            "text/plain": [
              "                          title odometer location  ...    fuel  paint      price\n",
              "count                      1466     1466     1466  ...    1466   1466       1466\n",
              "unique                      682     1403       15  ...       2     90        478\n",
              "top     Toyota Camry 2011 Price     0 km    Lagos  ...  petrol  Black  3,315,000\n",
              "freq                         25       45     1145  ...    1386    410         24\n",
              "\n",
              "[4 rows x 9 columns]"
            ]
          },
          "metadata": {
            "tags": []
          },
          "execution_count": 10
        }
      ]
    },
    {
      "cell_type": "code",
      "metadata": {
        "id": "Y_anLw8n76U1"
      },
      "source": [
        "df.price = df.price.str.replace(',', '')\r\n",
        "df.odometer=df.odometer.str.replace(',','').str.replace(' km', '')"
      ],
      "execution_count": 11,
      "outputs": []
    },
    {
      "cell_type": "code",
      "metadata": {
        "id": "lkm8l0vO0DGT"
      },
      "source": [
        "df.title = df.title.str.replace(' Price','')"
      ],
      "execution_count": 12,
      "outputs": []
    },
    {
      "cell_type": "code",
      "metadata": {
        "id": "st3__JSc0jpV"
      },
      "source": [
        "df['year'] = df['title'].str.extract(r'(\\d{4})') \r\n",
        "df['title'] = df['title'].str.replace(r' (\\d{4})','')"
      ],
      "execution_count": 13,
      "outputs": []
    },
    {
      "cell_type": "code",
      "metadata": {
        "colab": {
          "base_uri": "https://localhost:8080/"
        },
        "id": "CmJmZZFq8rT8",
        "outputId": "92aa1fda-b786-4207-d484-a8d034b3cd59"
      },
      "source": [
        "df.title.value_counts().head(10)"
      ],
      "execution_count": 14,
      "outputs": [
        {
          "output_type": "execute_result",
          "data": {
            "text/plain": [
              "Toyota Camry         181\n",
              "Toyota Corolla       160\n",
              "Toyota Highlander     80\n",
              "Toyota Sienna         78\n",
              "Toyota RAV 4          59\n",
              "Honda Accord          54\n",
              "Lexus RX 350          48\n",
              "Lexus ES 350          32\n",
              "Lexus GX 460          26\n",
              "Toyota Venza          24\n",
              "Name: title, dtype: int64"
            ]
          },
          "metadata": {
            "tags": []
          },
          "execution_count": 14
        }
      ]
    },
    {
      "cell_type": "code",
      "metadata": {
        "colab": {
          "base_uri": "https://localhost:8080/",
          "height": 478
        },
        "id": "zqTDERfX71Ct",
        "outputId": "0a205922-6b1c-4748-bc9b-454d08d33d45"
      },
      "source": [
        "df[df['year'].isna()]"
      ],
      "execution_count": 15,
      "outputs": [
        {
          "output_type": "execute_result",
          "data": {
            "text/html": [
              "<div>\n",
              "<style scoped>\n",
              "    .dataframe tbody tr th:only-of-type {\n",
              "        vertical-align: middle;\n",
              "    }\n",
              "\n",
              "    .dataframe tbody tr th {\n",
              "        vertical-align: top;\n",
              "    }\n",
              "\n",
              "    .dataframe thead th {\n",
              "        text-align: right;\n",
              "    }\n",
              "</style>\n",
              "<table border=\"1\" class=\"dataframe\">\n",
              "  <thead>\n",
              "    <tr style=\"text-align: right;\">\n",
              "      <th></th>\n",
              "      <th>title</th>\n",
              "      <th>odometer</th>\n",
              "      <th>location</th>\n",
              "      <th>isimported</th>\n",
              "      <th>engine</th>\n",
              "      <th>transmission</th>\n",
              "      <th>fuel</th>\n",
              "      <th>paint</th>\n",
              "      <th>price</th>\n",
              "      <th>year</th>\n",
              "    </tr>\n",
              "  </thead>\n",
              "  <tbody>\n",
              "    <tr>\n",
              "      <th>71</th>\n",
              "      <td>DAF 95XF 0</td>\n",
              "      <td>0</td>\n",
              "      <td>Lagos</td>\n",
              "      <td>Locally used</td>\n",
              "      <td>8-cylinder(V8)</td>\n",
              "      <td>manual</td>\n",
              "      <td>diesel</td>\n",
              "      <td>white-yellow</td>\n",
              "      <td>14965000</td>\n",
              "      <td>NaN</td>\n",
              "    </tr>\n",
              "    <tr>\n",
              "      <th>73</th>\n",
              "      <td>Iveco STRALIS 0</td>\n",
              "      <td>0</td>\n",
              "      <td>Lagos</td>\n",
              "      <td>Locally used</td>\n",
              "      <td>6-cylinder(I6)</td>\n",
              "      <td>manual</td>\n",
              "      <td>diesel</td>\n",
              "      <td>white</td>\n",
              "      <td>8640000</td>\n",
              "      <td>NaN</td>\n",
              "    </tr>\n",
              "    <tr>\n",
              "      <th>82</th>\n",
              "      <td>Fiat Ducato 0</td>\n",
              "      <td>0</td>\n",
              "      <td>Lagos</td>\n",
              "      <td>Locally used</td>\n",
              "      <td>4-cylinder(I4)</td>\n",
              "      <td>manual</td>\n",
              "      <td>diesel</td>\n",
              "      <td>white</td>\n",
              "      <td>3925000</td>\n",
              "      <td>NaN</td>\n",
              "    </tr>\n",
              "    <tr>\n",
              "      <th>85</th>\n",
              "      <td>Iveco 260-25ah-ahb 0</td>\n",
              "      <td>0</td>\n",
              "      <td>Lagos</td>\n",
              "      <td>Locally used</td>\n",
              "      <td>6-cylinder(I6)</td>\n",
              "      <td>manual</td>\n",
              "      <td>diesel</td>\n",
              "      <td>white</td>\n",
              "      <td>9215000</td>\n",
              "      <td>NaN</td>\n",
              "    </tr>\n",
              "    <tr>\n",
              "      <th>87</th>\n",
              "      <td>Scania P113 0</td>\n",
              "      <td>0</td>\n",
              "      <td>Lagos</td>\n",
              "      <td>Locally used</td>\n",
              "      <td>6-cylinder(I6)</td>\n",
              "      <td>manual</td>\n",
              "      <td>diesel</td>\n",
              "      <td>white</td>\n",
              "      <td>6340000</td>\n",
              "      <td>NaN</td>\n",
              "    </tr>\n",
              "    <tr>\n",
              "      <th>457</th>\n",
              "      <td>Scania TRACTOR HEAD 0</td>\n",
              "      <td>0</td>\n",
              "      <td>Lagos</td>\n",
              "      <td>Locally used</td>\n",
              "      <td>6-cylinder(V6)</td>\n",
              "      <td>manual</td>\n",
              "      <td>diesel</td>\n",
              "      <td>white</td>\n",
              "      <td>8015000</td>\n",
              "      <td>NaN</td>\n",
              "    </tr>\n",
              "    <tr>\n",
              "      <th>461</th>\n",
              "      <td>Fiat Ducato 0</td>\n",
              "      <td>302235</td>\n",
              "      <td>Lagos</td>\n",
              "      <td>Locally used</td>\n",
              "      <td>4-cylinder(I4)</td>\n",
              "      <td>manual</td>\n",
              "      <td>diesel</td>\n",
              "      <td>black</td>\n",
              "      <td>1715000</td>\n",
              "      <td>NaN</td>\n",
              "    </tr>\n",
              "    <tr>\n",
              "      <th>462</th>\n",
              "      <td>Iveco HIAB WITH CRANE 0</td>\n",
              "      <td>18909</td>\n",
              "      <td>Lagos</td>\n",
              "      <td>Locally used</td>\n",
              "      <td>6-cylinder(V6)</td>\n",
              "      <td>manual</td>\n",
              "      <td>diesel</td>\n",
              "      <td>orange</td>\n",
              "      <td>4515000</td>\n",
              "      <td>NaN</td>\n",
              "    </tr>\n",
              "    <tr>\n",
              "      <th>463</th>\n",
              "      <td>Mack TRAILER 0</td>\n",
              "      <td>0</td>\n",
              "      <td>Lagos</td>\n",
              "      <td>Locally used</td>\n",
              "      <td>6-cylinder(V6)</td>\n",
              "      <td>manual</td>\n",
              "      <td>diesel</td>\n",
              "      <td>brown</td>\n",
              "      <td>3515000</td>\n",
              "      <td>NaN</td>\n",
              "    </tr>\n",
              "    <tr>\n",
              "      <th>479</th>\n",
              "      <td>Scania TIPPING TRUCK 0</td>\n",
              "      <td>822263</td>\n",
              "      <td>Lagos</td>\n",
              "      <td>Locally used</td>\n",
              "      <td>6-cylinder(V6)</td>\n",
              "      <td>manual</td>\n",
              "      <td>diesel</td>\n",
              "      <td>red</td>\n",
              "      <td>10015000</td>\n",
              "      <td>NaN</td>\n",
              "    </tr>\n",
              "    <tr>\n",
              "      <th>486</th>\n",
              "      <td>Mixer CONSTRUCTION SITE MIXER 0</td>\n",
              "      <td>0</td>\n",
              "      <td>Lagos</td>\n",
              "      <td>Locally used</td>\n",
              "      <td>6-cylinder(V6)</td>\n",
              "      <td>manual</td>\n",
              "      <td>diesel</td>\n",
              "      <td>yellow</td>\n",
              "      <td>14015000</td>\n",
              "      <td>NaN</td>\n",
              "    </tr>\n",
              "    <tr>\n",
              "      <th>490</th>\n",
              "      <td>Chana MINI TRUCK 0</td>\n",
              "      <td>0</td>\n",
              "      <td>Lagos</td>\n",
              "      <td>Locally used</td>\n",
              "      <td>4-cylinder(I4)</td>\n",
              "      <td>manual</td>\n",
              "      <td>diesel</td>\n",
              "      <td>silver</td>\n",
              "      <td>1015000</td>\n",
              "      <td>NaN</td>\n",
              "    </tr>\n",
              "    <tr>\n",
              "      <th>491</th>\n",
              "      <td>Iveco EUROSTAR 0</td>\n",
              "      <td>300642</td>\n",
              "      <td>Lagos</td>\n",
              "      <td>Locally used</td>\n",
              "      <td>6-cylinder(V6)</td>\n",
              "      <td>manual</td>\n",
              "      <td>diesel</td>\n",
              "      <td>red</td>\n",
              "      <td>6015000</td>\n",
              "      <td>NaN</td>\n",
              "    </tr>\n",
              "    <tr>\n",
              "      <th>497</th>\n",
              "      <td>Volkswagen Cabstar 0</td>\n",
              "      <td>0</td>\n",
              "      <td>Lagos</td>\n",
              "      <td>Locally used</td>\n",
              "      <td>4-cylinder(I4)</td>\n",
              "      <td>manual</td>\n",
              "      <td>diesel</td>\n",
              "      <td>white</td>\n",
              "      <td>2015000</td>\n",
              "      <td>NaN</td>\n",
              "    </tr>\n",
              "    <tr>\n",
              "      <th>505</th>\n",
              "      <td>Mack R-MODEL 0</td>\n",
              "      <td>281707</td>\n",
              "      <td>Lagos</td>\n",
              "      <td>Locally used</td>\n",
              "      <td>6-cylinder(V6)</td>\n",
              "      <td>manual</td>\n",
              "      <td>diesel</td>\n",
              "      <td>red</td>\n",
              "      <td>7815000</td>\n",
              "      <td>NaN</td>\n",
              "    </tr>\n",
              "  </tbody>\n",
              "</table>\n",
              "</div>"
            ],
            "text/plain": [
              "                               title odometer  ...     price year\n",
              "71                        DAF 95XF 0        0  ...  14965000  NaN\n",
              "73                   Iveco STRALIS 0        0  ...   8640000  NaN\n",
              "82                     Fiat Ducato 0        0  ...   3925000  NaN\n",
              "85              Iveco 260-25ah-ahb 0        0  ...   9215000  NaN\n",
              "87                     Scania P113 0        0  ...   6340000  NaN\n",
              "457            Scania TRACTOR HEAD 0        0  ...   8015000  NaN\n",
              "461                    Fiat Ducato 0   302235  ...   1715000  NaN\n",
              "462          Iveco HIAB WITH CRANE 0    18909  ...   4515000  NaN\n",
              "463                   Mack TRAILER 0        0  ...   3515000  NaN\n",
              "479           Scania TIPPING TRUCK 0   822263  ...  10015000  NaN\n",
              "486  Mixer CONSTRUCTION SITE MIXER 0        0  ...  14015000  NaN\n",
              "490               Chana MINI TRUCK 0        0  ...   1015000  NaN\n",
              "491                 Iveco EUROSTAR 0   300642  ...   6015000  NaN\n",
              "497             Volkswagen Cabstar 0        0  ...   2015000  NaN\n",
              "505                   Mack R-MODEL 0   281707  ...   7815000  NaN\n",
              "\n",
              "[15 rows x 10 columns]"
            ]
          },
          "metadata": {
            "tags": []
          },
          "execution_count": 15
        }
      ]
    },
    {
      "cell_type": "code",
      "metadata": {
        "id": "3wzhhbZn8thg"
      },
      "source": [
        "df.dropna(inplace=True)"
      ],
      "execution_count": 16,
      "outputs": []
    },
    {
      "cell_type": "code",
      "metadata": {
        "id": "8uqTuj89_Frw"
      },
      "source": [
        "df.price = df.price.astype(int)\r\n",
        "df.odometer = df.odometer.astype(int)\r\n",
        "df.year = df.year.astype(int)"
      ],
      "execution_count": 17,
      "outputs": []
    },
    {
      "cell_type": "code",
      "metadata": {
        "colab": {
          "base_uri": "https://localhost:8080/"
        },
        "id": "tDASqjvu94T1",
        "outputId": "c5cc47b1-d1f0-47e0-db9f-d57153dab019"
      },
      "source": [
        "df.info()"
      ],
      "execution_count": 18,
      "outputs": [
        {
          "output_type": "stream",
          "text": [
            "<class 'pandas.core.frame.DataFrame'>\n",
            "Int64Index: 1451 entries, 0 to 1465\n",
            "Data columns (total 10 columns):\n",
            " #   Column        Non-Null Count  Dtype \n",
            "---  ------        --------------  ----- \n",
            " 0   title         1451 non-null   object\n",
            " 1   odometer      1451 non-null   int64 \n",
            " 2   location      1451 non-null   object\n",
            " 3   isimported    1451 non-null   object\n",
            " 4   engine        1451 non-null   object\n",
            " 5   transmission  1451 non-null   object\n",
            " 6   fuel          1451 non-null   object\n",
            " 7   paint         1451 non-null   object\n",
            " 8   price         1451 non-null   int64 \n",
            " 9   year          1451 non-null   int64 \n",
            "dtypes: int64(3), object(7)\n",
            "memory usage: 124.7+ KB\n"
          ],
          "name": "stdout"
        }
      ]
    },
    {
      "cell_type": "code",
      "metadata": {
        "colab": {
          "base_uri": "https://localhost:8080/",
          "height": 334
        },
        "id": "vomXkFxq96Ao",
        "outputId": "d5fcd847-5983-4a41-e937-3eafc3f9efec"
      },
      "source": [
        "df.sample(10)"
      ],
      "execution_count": 19,
      "outputs": [
        {
          "output_type": "execute_result",
          "data": {
            "text/html": [
              "<div>\n",
              "<style scoped>\n",
              "    .dataframe tbody tr th:only-of-type {\n",
              "        vertical-align: middle;\n",
              "    }\n",
              "\n",
              "    .dataframe tbody tr th {\n",
              "        vertical-align: top;\n",
              "    }\n",
              "\n",
              "    .dataframe thead th {\n",
              "        text-align: right;\n",
              "    }\n",
              "</style>\n",
              "<table border=\"1\" class=\"dataframe\">\n",
              "  <thead>\n",
              "    <tr style=\"text-align: right;\">\n",
              "      <th></th>\n",
              "      <th>title</th>\n",
              "      <th>odometer</th>\n",
              "      <th>location</th>\n",
              "      <th>isimported</th>\n",
              "      <th>engine</th>\n",
              "      <th>transmission</th>\n",
              "      <th>fuel</th>\n",
              "      <th>paint</th>\n",
              "      <th>price</th>\n",
              "      <th>year</th>\n",
              "    </tr>\n",
              "  </thead>\n",
              "  <tbody>\n",
              "    <tr>\n",
              "      <th>273</th>\n",
              "      <td>Toyota Highlander</td>\n",
              "      <td>30951</td>\n",
              "      <td>Lagos State</td>\n",
              "      <td>Foreign Used</td>\n",
              "      <td>6-cylinder(V6)</td>\n",
              "      <td>automatic</td>\n",
              "      <td>petrol</td>\n",
              "      <td>Silver</td>\n",
              "      <td>16015000</td>\n",
              "      <td>2017</td>\n",
              "    </tr>\n",
              "    <tr>\n",
              "      <th>529</th>\n",
              "      <td>Toyota Camry</td>\n",
              "      <td>31600</td>\n",
              "      <td>Abuja</td>\n",
              "      <td>Foreign Used</td>\n",
              "      <td>4-cylinder(I4)</td>\n",
              "      <td>automatic</td>\n",
              "      <td>petrol</td>\n",
              "      <td>Silver</td>\n",
              "      <td>3615000</td>\n",
              "      <td>2011</td>\n",
              "    </tr>\n",
              "    <tr>\n",
              "      <th>332</th>\n",
              "      <td>Volkswagen 17.22</td>\n",
              "      <td>142623</td>\n",
              "      <td>Lagos</td>\n",
              "      <td>Foreign Used</td>\n",
              "      <td>4-cylinder(I4)</td>\n",
              "      <td>automatic</td>\n",
              "      <td>petrol</td>\n",
              "      <td>Black</td>\n",
              "      <td>3165000</td>\n",
              "      <td>2010</td>\n",
              "    </tr>\n",
              "    <tr>\n",
              "      <th>930</th>\n",
              "      <td>Lexus RX 350</td>\n",
              "      <td>176862</td>\n",
              "      <td>Abuja</td>\n",
              "      <td>Foreign Used</td>\n",
              "      <td>6-cylinder(V6)</td>\n",
              "      <td>automatic</td>\n",
              "      <td>petrol</td>\n",
              "      <td>Silver</td>\n",
              "      <td>9015000</td>\n",
              "      <td>2013</td>\n",
              "    </tr>\n",
              "    <tr>\n",
              "      <th>786</th>\n",
              "      <td>Toyota Corolla</td>\n",
              "      <td>113085</td>\n",
              "      <td>Lagos</td>\n",
              "      <td>Foreign Used</td>\n",
              "      <td>6-cylinder(I6)</td>\n",
              "      <td>automatic</td>\n",
              "      <td>petrol</td>\n",
              "      <td>Gray</td>\n",
              "      <td>5790000</td>\n",
              "      <td>2014</td>\n",
              "    </tr>\n",
              "    <tr>\n",
              "      <th>1024</th>\n",
              "      <td>Lexus GX 460</td>\n",
              "      <td>44089</td>\n",
              "      <td>Lagos</td>\n",
              "      <td>Foreign Used</td>\n",
              "      <td>8-cylinder(V8)</td>\n",
              "      <td>automatic</td>\n",
              "      <td>petrol</td>\n",
              "      <td>White</td>\n",
              "      <td>17395000</td>\n",
              "      <td>2014</td>\n",
              "    </tr>\n",
              "    <tr>\n",
              "      <th>686</th>\n",
              "      <td>Toyota Camry</td>\n",
              "      <td>102904</td>\n",
              "      <td>Lagos</td>\n",
              "      <td>Foreign Used</td>\n",
              "      <td>4-cylinder(I4)</td>\n",
              "      <td>automatic</td>\n",
              "      <td>petrol</td>\n",
              "      <td>Silver</td>\n",
              "      <td>3645000</td>\n",
              "      <td>2011</td>\n",
              "    </tr>\n",
              "    <tr>\n",
              "      <th>1066</th>\n",
              "      <td>Lexus RX 350</td>\n",
              "      <td>2584</td>\n",
              "      <td>Lagos</td>\n",
              "      <td>Foreign Used</td>\n",
              "      <td>6-cylinder(V6)</td>\n",
              "      <td>automatic</td>\n",
              "      <td>petrol</td>\n",
              "      <td>Black</td>\n",
              "      <td>24015000</td>\n",
              "      <td>2018</td>\n",
              "    </tr>\n",
              "    <tr>\n",
              "      <th>859</th>\n",
              "      <td>Toyota Matrix</td>\n",
              "      <td>65483</td>\n",
              "      <td>Abuja</td>\n",
              "      <td>Foreign Used</td>\n",
              "      <td>4-cylinder(I4)</td>\n",
              "      <td>automatic</td>\n",
              "      <td>petrol</td>\n",
              "      <td>Blue</td>\n",
              "      <td>3315000</td>\n",
              "      <td>2009</td>\n",
              "    </tr>\n",
              "    <tr>\n",
              "      <th>387</th>\n",
              "      <td>Lexus RX 350</td>\n",
              "      <td>72903</td>\n",
              "      <td>Lagos</td>\n",
              "      <td>Foreign Used</td>\n",
              "      <td>6-cylinder(I6)</td>\n",
              "      <td>automatic</td>\n",
              "      <td>petrol</td>\n",
              "      <td>Grey</td>\n",
              "      <td>9930000</td>\n",
              "      <td>2015</td>\n",
              "    </tr>\n",
              "  </tbody>\n",
              "</table>\n",
              "</div>"
            ],
            "text/plain": [
              "                  title  odometer     location  ...   paint     price  year\n",
              "273   Toyota Highlander     30951  Lagos State  ...  Silver  16015000  2017\n",
              "529        Toyota Camry     31600        Abuja  ...  Silver   3615000  2011\n",
              "332    Volkswagen 17.22    142623        Lagos  ...   Black   3165000  2010\n",
              "930        Lexus RX 350    176862        Abuja  ...  Silver   9015000  2013\n",
              "786      Toyota Corolla    113085        Lagos  ...    Gray   5790000  2014\n",
              "1024       Lexus GX 460     44089        Lagos  ...   White  17395000  2014\n",
              "686        Toyota Camry    102904        Lagos  ...  Silver   3645000  2011\n",
              "1066       Lexus RX 350      2584        Lagos  ...  Black   24015000  2018\n",
              "859       Toyota Matrix     65483        Abuja  ...    Blue   3315000  2009\n",
              "387        Lexus RX 350     72903        Lagos  ...    Grey   9930000  2015\n",
              "\n",
              "[10 rows x 10 columns]"
            ]
          },
          "metadata": {
            "tags": []
          },
          "execution_count": 19
        }
      ]
    },
    {
      "cell_type": "code",
      "metadata": {
        "id": "pWXNOUjQ-Vel"
      },
      "source": [
        "df.to_csv('autochek_scrape.csv', index=False, encoding='utf-8')"
      ],
      "execution_count": 20,
      "outputs": []
    }
  ]
}